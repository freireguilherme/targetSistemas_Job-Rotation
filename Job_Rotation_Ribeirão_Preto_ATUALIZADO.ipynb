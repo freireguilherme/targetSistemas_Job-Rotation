{
  "nbformat": 4,
  "nbformat_minor": 0,
  "metadata": {
    "colab": {
      "provenance": []
    },
    "kernelspec": {
      "name": "python3",
      "display_name": "Python 3"
    },
    "language_info": {
      "name": "python"
    }
  },
  "cells": [
    {
      "cell_type": "markdown",
      "source": [
        "Questão 1"
      ],
      "metadata": {
        "id": "t__sjs85MkU5"
      }
    },
    {
      "cell_type": "code",
      "execution_count": null,
      "metadata": {
        "id": "Je8yRx7EMW-2"
      },
      "outputs": [],
      "source": [
        "indice = 13\n",
        "soma = 0\n",
        "k = 0\n",
        "\n",
        "while k < indice:\n",
        "  k = k + 1\n",
        "  print(f\"k:\", k)\n",
        "  soma = soma + k\n",
        "  print(f\"soma:\", soma)\n",
        "\n",
        "print(soma)"
      ]
    },
    {
      "cell_type": "markdown",
      "source": [
        "Questão 2"
      ],
      "metadata": {
        "id": "NKgZRn7vMy2H"
      }
    },
    {
      "cell_type": "code",
      "source": [
        "num = int(input(\"Que termo deseja encontrar: \"))\n",
        "def ehFibonacci(num):\n",
        "  # define os primeiros termos\n",
        "  primeiro = 0\n",
        "  segundo = 1\n",
        "  terceiro = 0\n",
        "\n",
        "  #começa a imprimir a sequencia\n",
        "  print(primeiro)\n",
        "  print(segundo)\n",
        "\n",
        "  # enquanto o terceiro valor for menor que o número informado\n",
        "  while terceiro < num:\n",
        "    terceiro = primeiro + segundo\n",
        "    primeiro = segundo\n",
        "    segundo = terceiro\n",
        "    print(terceiro)\n",
        "          \n",
        "  # verifica se pertence    \n",
        "  return terceiro == num\n",
        "\n",
        "#chamo a funcção passando o numero informado\n",
        "if(ehFibonacci(num)):\n",
        "  print(f\"O numero\", num, \"pertece a série de Fibonacci\")\n",
        "else:\n",
        "  print(f\"O numero\", num, \"não pertece à série de Fibonacci\")\n",
        "     "
      ],
      "metadata": {
        "colab": {
          "base_uri": "https://localhost:8080/"
        },
        "id": "9RcMMCwRMus2",
        "outputId": "e83e4548-6629-4489-9f38-d8072461e844"
      },
      "execution_count": 2,
      "outputs": [
        {
          "output_type": "stream",
          "name": "stdout",
          "text": [
            "Que termo deseja encontrar: 81\n",
            "0\n",
            "1\n",
            "1\n",
            "2\n",
            "3\n",
            "5\n",
            "8\n",
            "13\n",
            "21\n",
            "34\n",
            "55\n",
            "89\n",
            "O numero 81 não pertece à série de Fibonacci\n"
          ]
        }
      ]
    },
    {
      "cell_type": "markdown",
      "source": [
        "Questão 3\n",
        "\n",
        "a) 1, 3, 5, 7, **9** (impares)\n",
        "\n",
        "b) 2, 4, 8, 16, 32, 64, **128**, potencias de 2\n",
        "\n",
        "c) 0, 1, 4, 9, 16, 25, 36, **49**, soma-se com o proximo ímpar\n",
        "\n",
        "d) 4, 16, 36, 64, **100**, os numeros pares ao quadrado\n",
        "\n",
        "e) 1, 1, 2, 3, 5, 8, **13**, fibonacci\n",
        "\n",
        "f) 2, 10, 12, 15, 17, 18, 19, nesse não encontrei um padrão\n"
      ],
      "metadata": {
        "id": "c4BctBsNM52G"
      }
    },
    {
      "cell_type": "markdown",
      "source": [
        "Questão 4\n",
        "\n",
        "Carro saindo de Ribeirão Preto (RP), kilometro 0.\n",
        "\n",
        "Caminhão saindo de Franca, km 100.\n",
        "\n",
        "Função horaria do espaço => `S = So + v*t`\n",
        "\n",
        "Então para encontrar em que momento eles se encontram, basta igualar suas funções  horárias do espaço; porem o caminhão parou por 10 minutos (duas paradas de 5 minutos nos pedágios).\n",
        "\n",
        "`0 + 110 * t = 100 - 80* t `\n",
        "\n",
        "`190t = 100`\n",
        "\n",
        "`t = 100 / 190 => t = 0,52h (31 minutos)`\n",
        "\n",
        "Isso sem levar em conta as paradas do caminhão. Como ele parou por dez minutos, então eles se encontraram após 41 minutos. \n",
        "\n",
        "Após 41 minutos, o carro estava:\n",
        "\n",
        "`S = 0 + 110 * 0,68 (41 minutos em horas)`\n",
        "\n",
        "`S = 74,8 KM` o carro estava a 74,8 km de RP\n",
        "\n",
        "Agora para o caminhão\n",
        "\n",
        "`S = 100 - 80 *0,52` ( o caminhão andou efetivamente por 31 minutos)\n",
        "\n",
        "`S = 58,4 km` o caminhão pecorreu 58,4 kilometros, faltando 41,6 km para chegar à RP\n",
        "\n",
        "Dessa forma, quando se cruzaram, o **caminhão estava mais proximo à Ribeirão Preto**, e o carro estava mais próximo da cidade de França.\n"
      ],
      "metadata": {
        "id": "EDHHmUBxQYuF"
      }
    },
    {
      "cell_type": "markdown",
      "source": [
        "Questão 5"
      ],
      "metadata": {
        "id": "sLfr2WwuS9wH"
      }
    },
    {
      "cell_type": "code",
      "source": [
        "string = (input(\"Qual string deseja inverter: \"))\n",
        "\n",
        "def inverterString(nome):\n",
        "    novaString = \"\"\n",
        "    tamanho = len(nome)\n",
        "    for i in range(tamanho-1, -1, -1):\n",
        "        novaString += nome[i];\n",
        "        \n",
        "    return novaString\n",
        "\n",
        "print(inverterString(string))"
      ],
      "metadata": {
        "colab": {
          "base_uri": "https://localhost:8080/"
        },
        "id": "4rsxlUsSS-Cc",
        "outputId": "96db9262-e63b-4864-843c-f523b8aec96b"
      },
      "execution_count": 4,
      "outputs": [
        {
          "output_type": "stream",
          "name": "stdout",
          "text": [
            "Qual string deseja inverter: amor\n",
            "roma\n"
          ]
        }
      ]
    }
  ]
}